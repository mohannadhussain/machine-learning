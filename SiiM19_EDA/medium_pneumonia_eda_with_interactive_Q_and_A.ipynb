{
  "nbformat": 4,
  "nbformat_minor": 0,
  "metadata": {
    "colab": {
      "name": "medium-pneumonia-eda_with_interactive_Q_and_A.ipynb",
      "version": "0.3.2",
      "provenance": [],
      "collapsed_sections": [
        "yUm3n8HjTudX",
        "kZfBlyVhVTfQ",
        "-jHd59KUY7M9",
        "abVeczqhmxkz",
        "epEnvKfenwpQ",
        "Js9ax_R8p-Yb",
        "I9Hwbo31lGHM",
        "1Ezy9ArFWBaW",
        "xud2_z15Zvee"
      ],
      "include_colab_link": true
    },
    "kernelspec": {
      "name": "python3",
      "display_name": "Python 3"
    }
  },
  "cells": [
    {
      "cell_type": "markdown",
      "metadata": {
        "id": "view-in-github",
        "colab_type": "text"
      },
      "source": [
        "<a href=\"https://colab.research.google.com/github/cornellradiology/SIIM19_EDA/blob/master/medium_pneumonia_eda_with_interactive_Q_and_A.ipynb\" target=\"_parent\"><img src=\"https://colab.research.google.com/assets/colab-badge.svg\" alt=\"Open In Colab\"/></a>"
      ]
    },
    {
      "cell_type": "markdown",
      "metadata": {
        "id": "b1-26iB-AeiJ",
        "colab_type": "text"
      },
      "source": [
        "# SIIM - Data Science - Tier 1\n",
        "Pneumonia accounts for over 15% of all deaths of children under 5 years old internationally. In 2015, 920,000 children under the age of 5 died from the disease. In the United States, pneumonia accounts for over 500,000 visits to emergency departments and over 50,000 deaths in 2015, keeping the ailment on the list of top 10 causes of death in the country.\n",
        "\n",
        "Diagnosing pneumonia usually requires review of a chest radiograph (CXR) by highly trained specialists and confirmation through clinical history, vital signs and laboratory exams. Pneumonia usually manifests as an area or areas of increased opacity on CXR. However, the diagnosis of pneumonia on CXR is complicated because of a number of other conditions in the lungs can also manfiest with the same findings, including as fluid overload (pulmonary edema), bleeding, volume loss (atelectasis or collapse), lung cancer, or post-radiation or surgical changes. To improve the efficiency and reach of diagnostic services, the RSNA and STR annotated a 30,000 chest x-ray dataset, for the presence or absence of pneumonia, which involved over 15 radiologists from multiple academic institutions.  The areas of opacity suspicious for pnuemonia were outlined by a bounding box, and exams without suspicious opacities were labeled as either Normal, or Not Opacity / Not Normal.\n",
        "\n",
        "A Kaggle Competition was held in the fall of 2018 (https://www.kaggle.com/c/rsna-pneumonia-detection-challenge) using this dataset.  In this course, we will start\n",
        " by doing exploratory data analysis (EDA), while learning about data science techniques.  Performing EDA is a prerequiste for building high quality machine learning algorithms."
      ]
    },
    {
      "cell_type": "markdown",
      "metadata": {
        "id": "iwQxmRqxvmUe",
        "colab_type": "text"
      },
      "source": [
        "#Preliminaries\n",
        "\n",
        "## Create directory structure\n",
        "\n",
        "Must import `os` package to change a directory correctly in python.\n",
        "\n",
        "Define `ROOT_PATH` on google colab with `pneumonia` subdirectory and then change directory into that path.\n",
        "\n",
        "In colab, you run bash linux commands by prefixing a command with an ! exclamation point, which we use to create the pneumonia subdirectory.  \n",
        "\n",
        "Within a bash command run from a notebook, you can substitute in the value of python variables using the curly brace syntax `{variable_name}` will substitute to the current contents of the variable into the command.\n"
      ]
    },
    {
      "cell_type": "code",
      "metadata": {
        "id": "nieOLO2IvnrC",
        "colab_type": "code",
        "colab": {}
      },
      "source": [
        "import os\n",
        "ROOT_PATH = '/content/pneumonia' # on colab you start in the path /content/\n",
        "!mkdir -p {ROOT_PATH}\n",
        "os.chdir(ROOT_PATH)\n",
        "print(ROOT_PATH)"
      ],
      "execution_count": 0,
      "outputs": []
    },
    {
      "cell_type": "markdown",
      "metadata": {
        "id": "Nz-W1dOoL0zd",
        "colab_type": "text"
      },
      "source": [
        "## Download the Data\n",
        "\n",
        "In colab, you run bash linux commands by prefixing a command with an ! exclamation point.  The first command below uses `wget` to download a file from a given URL; in this case a compressed zip file from the URL to your colab instance.  \n",
        "\n",
        "Within bash commands run in ipython notebooks you can substitute python variables with the curly brace syntax `{variable_name}` which will substitute with the value of `variable_name`.\n"
      ]
    },
    {
      "cell_type": "code",
      "metadata": {
        "id": "Kf0wmSFyuLe1",
        "colab_type": "code",
        "colab": {}
      },
      "source": [
        "#DOWNLOAD_URL = 'http://quarkonia.info/media/small_rsna_pneumonia.zip' # 12MB zip file - 60 train images; 20 test images\n",
        "\n",
        "DOWNLOAD_URL = 'http://quarkonia.info/media/medium_rsna_pneumonia.zip' # 53MB zip file - 300 train images; 100 test images\n",
        "\n",
        "ZIP_FILE = DOWNLOAD_URL.split('/')[-1] # split string at '/' and take last part which is file name\n",
        "\n",
        "if not os.path.exists(ZIP_FILE): # Download if it doesn't exist\n",
        "  !wget --show-progress {DOWNLOAD_URL}\n",
        "else:\n",
        "  print(\"Zip file already exists\")\n",
        "\n",
        "print(\"Current path:\")\n",
        "!pwd\n",
        "print(\"\\nCurrent directory contents:\")\n",
        "!ls\n"
      ],
      "execution_count": 0,
      "outputs": []
    },
    {
      "cell_type": "markdown",
      "metadata": {
        "id": "YzdhjD1XqCe0",
        "colab_type": "text"
      },
      "source": [
        "##Unzip into expected directory structure\n",
        "\n",
        "This takes the zip file you've downloaded, fix permissions (initially restrictive on the full RSNA dataset) and extracts the training images into a directory called `pneumonia/train`"
      ]
    },
    {
      "cell_type": "code",
      "metadata": {
        "id": "svhVATQhmOWm",
        "colab_type": "code",
        "colab": {}
      },
      "source": [
        "if not os.path.exists('train/'):\n",
        "  !unzip {ZIP_FILE}\n",
        "  !chmod 664 *.zip *.csv\n",
        "  os.mkdir('train/')\n",
        "  !unzip -q stage_2_train_images.zip -d train/\n",
        "else:\n",
        "  print(\"Already unzipped.\")"
      ],
      "execution_count": 0,
      "outputs": []
    },
    {
      "cell_type": "markdown",
      "metadata": {
        "id": "G434pXtLtmS6",
        "colab_type": "text"
      },
      "source": [
        "# Basic import statements to load common libraries\n",
        "\n",
        "* `os` is a built-in python library for exploring the file system.\n",
        "* [pandas](https://pandas.pydata.org/) is a library for reading and processing tabular data.\n",
        "* [numpy](https://www.numpy.org/) is a library for fast numerical operations on arrays of numerical data\n",
        "* [matplotlib](https://matplotlib.org/) is a plotting library\n",
        "* [pydicom](https://pydicom.github.io/pydicom/stable/getting_started.html) is a library for opening and loading dicom images\n",
        "* [seaborn](https://seaborn.pydata.org/) is a plotting library built on top of matplotlib with a higher level interface with better defaults for data visualization ([seaborn tutorial](https://www.datacamp.com/community/tutorials/seaborn-python-tutorial))\n",
        "\n",
        "## Install libraries not installed by default in Google Colab\n",
        "\n",
        "The packages pandas, numpy, matplotlib are by default installed on google colab, however pydicom is not automatically included so we have to go to the command line and install using `pip` (the python package installer).  We first try to import the module (if it exists), but if it doesn't exist we catch the `ImportError`, use pip to install the package on colab."
      ]
    },
    {
      "cell_type": "code",
      "metadata": {
        "id": "SeeXGqWHPSP5",
        "colab_type": "code",
        "colab": {}
      },
      "source": [
        "!pip install pydicom"
      ],
      "execution_count": 0,
      "outputs": []
    },
    {
      "cell_type": "markdown",
      "metadata": {
        "id": "tnpPPuVxRUXa",
        "colab_type": "text"
      },
      "source": [
        "To import a module into python, it is simply `import module` and you can access functions (or submodules, classes, variables, etc.) belonging to the module via `module.name_of_thing_in_module`.  For importing `pandas`, `numpy`, `matplotlib.pyplot` it is convenient to import using common abbreviations."
      ]
    },
    {
      "cell_type": "code",
      "metadata": {
        "id": "OFq7ptgNsZyD",
        "colab_type": "code",
        "colab": {}
      },
      "source": [
        "import os\n",
        "import pandas as pd\n",
        "import numpy as np\n",
        "import matplotlib.pyplot as plt\n",
        "import seaborn as sns\n",
        "import pydicom as dcm\n",
        "\n",
        "import warnings\n",
        "warnings.filterwarnings('ignore') # done to silence a seaborn deprecation warning\n"
      ],
      "execution_count": 0,
      "outputs": []
    },
    {
      "cell_type": "markdown",
      "metadata": {
        "id": "QZsHLzyjQenA",
        "colab_type": "text"
      },
      "source": [
        "# Explore the Spreadsheet Data\n",
        "\n",
        "## Open the data into panda dataframes\n",
        "\n",
        "There are two CSVs associated with RSNA pneumonia challenge that we will load into pandas dataframes.\n",
        "\n",
        "A pandas **dataframe** is a collection of tabular data, similar to a spreadsheet, and is the primary data structure for pandas.\n",
        "\n",
        "Since we have the tabular data loaded into CSV spreadsheet, we will use `pd.read_csv(file_name)` to read into file name."
      ]
    },
    {
      "cell_type": "code",
      "metadata": {
        "id": "89X-28dwLxbH",
        "colab_type": "code",
        "colab": {}
      },
      "source": [
        "bbox_df = pd.read_csv('stage_2_train_labels.csv')         # CSV of labeled bounding box information\n",
        "class_df = pd.read_csv('stage_2_detailed_class_info.csv') # CSV with extra detailed_class_info"
      ],
      "execution_count": 0,
      "outputs": []
    },
    {
      "cell_type": "markdown",
      "metadata": {
        "id": "PuJyAPamTnTE",
        "colab_type": "text"
      },
      "source": [
        "### Jupyter Notebook Tip #1: How to find documentation\n",
        "\n",
        "If you need to get documentation in google colab for a function when you forgot the syntax or options, either:\n",
        "\n",
        "1. execute a cell where the function ends with a question mark (`pd.read_csv?`)\n",
        "2. type the name of the function with an open paranthesis `pd.read_csv(` and press tab to have documentation pop-up in a hover window.\n",
        "\n",
        "\n",
        "---\n",
        "\n",
        "\n",
        "In a Jupyter notebook (similar to colab but run locally) you can press shift-tab to pop up the same information.\n",
        "\n",
        "Similarly you colab and Jupyter notebooks have tab auto_complete.  (E.g., press tab after typing in `pd.` to see things in pandas namespace or tab after `pd.rea` to see a list of options)"
      ]
    },
    {
      "cell_type": "code",
      "metadata": {
        "id": "5R5zurpGMc58",
        "colab_type": "code",
        "colab": {}
      },
      "source": [
        "pd.read_csv?"
      ],
      "execution_count": 0,
      "outputs": []
    },
    {
      "cell_type": "code",
      "metadata": {
        "id": "N4URPAn-MmCU",
        "colab_type": "code",
        "colab": {}
      },
      "source": [
        "# Type \"pd.merge(\" below and press tab inside the parentheses."
      ],
      "execution_count": 0,
      "outputs": []
    },
    {
      "cell_type": "markdown",
      "metadata": {
        "id": "Bu6uR29pWCzs",
        "colab_type": "text"
      },
      "source": [
        "### Jupyter Notebook Tip #2: Jupyter pretty-prints last value returned in codeblock\n",
        "\n",
        "You can insert multiple lines of python code inside a Jupyter codeblock.\n",
        "\n",
        "If the last python line in a code block returns a value, it will be displayed (and formatted nicely by default in a better format than a regular `print()` statement)  below the codeblock.  When you assign a value to a variable, python will NOT return a value. \n",
        "\n",
        "Thus a common pattern in codeblocks is to say calculate a dataframe, assign it to something, and then repeat the last calculated value to display it."
      ]
    },
    {
      "cell_type": "code",
      "metadata": {
        "id": "Rkn1ciSrLiab",
        "colab_type": "code",
        "colab": {}
      },
      "source": [
        "df = bbox_df.copy() # create a copy of bbox_df\n",
        "df"
      ],
      "execution_count": 0,
      "outputs": []
    },
    {
      "cell_type": "markdown",
      "metadata": {
        "id": "loFsto5NV7oP",
        "colab_type": "text"
      },
      "source": [
        "## View Samples of CSV Data in DataFrame\n",
        "\n",
        "`df.head(n)` is a useful function to look at the first n rows of a dataframe to get a feel for the dataframe.\n",
        "\n",
        "`df.tail(n)` acts similarly looking at the last n rows of the dataframe\n",
        "\n",
        "`df.sample(n)` looks at n randomly selected entries.  \n",
        "\n",
        "If unspecified n defaults to 5, in the three cases above\n",
        "\n",
        "### Data field descriptions from [RSNA pneumonia dataset](https://www.kaggle.com/c/rsna-pneumonia-detection-challenge/data):\n",
        "\n",
        "* `patientId`- A patientId. Each patientId corresponds to a unique image.\n",
        "* `x` - the upper-left x coordinate of the bounding box.\n",
        "* `y` - the upper-left y coordinate of the bounding box.\n",
        "* `width` - the width of the bounding box.\n",
        "* `height` - the height of the bounding box.\n",
        "* `Target` - the binary Target, indicating whether this sample has evidence of pneumonia.\n"
      ]
    },
    {
      "cell_type": "markdown",
      "metadata": {
        "id": "rTWu_pVTUOuE",
        "colab_type": "text"
      },
      "source": [
        "###Q1 - Q3\n"
      ]
    },
    {
      "cell_type": "code",
      "metadata": {
        "id": "SgVEJ4cUVg1N",
        "colab_type": "code",
        "colab": {}
      },
      "source": [
        "# Q1: View first 5 rows of bounding box training label data frame."
      ],
      "execution_count": 0,
      "outputs": []
    },
    {
      "cell_type": "code",
      "metadata": {
        "id": "cNZacjrSVp0u",
        "colab_type": "code",
        "colab": {}
      },
      "source": [
        "# Q2: View last 10 rows of detailed class label data frame"
      ],
      "execution_count": 0,
      "outputs": []
    },
    {
      "cell_type": "code",
      "metadata": {
        "id": "EVbJie9JUpvw",
        "colab_type": "code",
        "colab": {}
      },
      "source": [
        "# Q3: Sample 20 random entries of bounding box training label data frame"
      ],
      "execution_count": 0,
      "outputs": []
    },
    {
      "cell_type": "markdown",
      "metadata": {
        "id": "yUm3n8HjTudX",
        "colab_type": "text"
      },
      "source": [
        "####Q1 - Q3 solutions\n",
        "\n"
      ]
    },
    {
      "cell_type": "code",
      "metadata": {
        "id": "ch9c9TK9T1SI",
        "colab_type": "code",
        "colab": {}
      },
      "source": [
        "bbox_df.head() # Note it defaults to N=5"
      ],
      "execution_count": 0,
      "outputs": []
    },
    {
      "cell_type": "code",
      "metadata": {
        "id": "g7l8RFK1T8GE",
        "colab_type": "code",
        "colab": {}
      },
      "source": [
        "class_df.tail(10)"
      ],
      "execution_count": 0,
      "outputs": []
    },
    {
      "cell_type": "code",
      "metadata": {
        "id": "vvPo8bNgU-Rk",
        "colab_type": "code",
        "colab": {}
      },
      "source": [
        "bbox_df.sample(20)"
      ],
      "execution_count": 0,
      "outputs": []
    },
    {
      "cell_type": "markdown",
      "metadata": {
        "id": "j4-lkkF5ob5M",
        "colab_type": "text"
      },
      "source": [
        "## Describe the Dataset\n",
        "\n",
        "`df.shape` returns the shape of the dataframe.  Note this is a property of the dataframe, not a function (hence no parentheses)\n",
        "`df.describe()` shows summary statistics about a dataframe. \n",
        "\n",
        "For object (categorical/string/timestamp) data, it shows:\n",
        "\n",
        "* the **count** of each column, \n",
        "* the number of **unique** entries, \n",
        "* the **top** (most frequent) entry\n",
        "* the **freq**uency of the top entry (number of occurrences)\n",
        "\n",
        "For numerical data, it shows the **count**, **mean** (average), **std** (standard deviation), **min**imum, **25%** percentile, **50%** percentile (median), **75%** percentile, and **max**imum.\n",
        "\n",
        "If both categorical data and numerical data columns are present, by default `df.describe()` will only describe the numerical columns.  However, you can show both with `df.describe(include='all')`."
      ]
    },
    {
      "cell_type": "markdown",
      "metadata": {
        "id": "aYYjo1AZoWYW",
        "colab_type": "text"
      },
      "source": [
        "### Q4 - Q5"
      ]
    },
    {
      "cell_type": "code",
      "metadata": {
        "id": "tWZEplTZ6tbr",
        "colab_type": "code",
        "colab": {}
      },
      "source": [
        "# Q4: What are the dimensions of bbox_df and class_df?"
      ],
      "execution_count": 0,
      "outputs": []
    },
    {
      "cell_type": "code",
      "metadata": {
        "id": "Dlhl76iNoaE7",
        "colab_type": "code",
        "colab": {}
      },
      "source": [
        "# Q5: What is the most frequent category of descriptive class label and for how many bounding boxes does this label occur?"
      ],
      "execution_count": 0,
      "outputs": []
    },
    {
      "cell_type": "markdown",
      "metadata": {
        "id": "kZfBlyVhVTfQ",
        "colab_type": "text"
      },
      "source": [
        "#### Q4 - Q5 solutions"
      ]
    },
    {
      "cell_type": "code",
      "metadata": {
        "id": "-NgExEvfVXJG",
        "colab_type": "code",
        "colab": {}
      },
      "source": [
        "print(\"BBox Shape:\", bbox_df.shape)\n",
        "print(\"Class info Shape:\", class_df.shape)"
      ],
      "execution_count": 0,
      "outputs": []
    },
    {
      "cell_type": "code",
      "metadata": {
        "id": "S5AIuJDti9Xo",
        "colab_type": "code",
        "colab": {}
      },
      "source": [
        "class_df.describe(include='all')"
      ],
      "execution_count": 0,
      "outputs": []
    },
    {
      "cell_type": "markdown",
      "metadata": {
        "id": "iFM-fBUB8W6Y",
        "colab_type": "text"
      },
      "source": [
        "## Pandas Slicing - How to select a column\n",
        "\n",
        "First you can select a column from a dataframe in pandas by either the syntax:\n",
        "\n",
        "`df['column_name']` or `df.column_name`\n",
        "\n",
        "which returns a pandas Series (an indexed array of data values) containing that column of data.  The first method will always work regardless of column name, but the second is a convenience method that can be used when there are no spaces or other special characters in the column name and the name doesn't otherwise clash (e.g., isn't a member function of a pandas dataFrame).\n",
        "\n",
        "You can then compare this array element by element with standard comparison operators; e.g., the following will find be set to True when the row has a Target of 0 and False otherwise.\n"
      ]
    },
    {
      "cell_type": "code",
      "metadata": {
        "id": "f-tlDGuoeH1B",
        "colab_type": "code",
        "colab": {}
      },
      "source": [
        "bbox_df.Target == 0 # Returns pandas.Series filled with True when the row has a Target of 0, False otherwise."
      ],
      "execution_count": 0,
      "outputs": []
    },
    {
      "cell_type": "markdown",
      "metadata": {
        "id": "sLn2WM4VVmTk",
        "colab_type": "text"
      },
      "source": [
        "####Q6"
      ]
    },
    {
      "cell_type": "code",
      "metadata": {
        "id": "JnkPzK8cEHRq",
        "colab_type": "code",
        "colab": {}
      },
      "source": [
        "# Q6: demonstrate that the first column patientId is the same in class_df and bbox_df"
      ],
      "execution_count": 0,
      "outputs": []
    },
    {
      "cell_type": "markdown",
      "metadata": {
        "id": "dJ0YKHwUXmmT",
        "colab_type": "text"
      },
      "source": [
        "##### Q6 Hint (python's `any` and `all` built-**ins**)"
      ]
    },
    {
      "cell_type": "code",
      "metadata": {
        "id": "kl1DEVaqEZGI",
        "colab_type": "code",
        "colab": {}
      },
      "source": [
        "# Python comes with built-in operators that allow you to test whether `any` or `all` elements in a iterable evaluate when converted to booleans are True or False \n",
        "\n",
        "any([False, True, False]) # returns True - at least one value is True\n",
        "all([False, True, True])  # returns False - all values aren't True\n",
        "\n",
        "# Aside: python's any and all functions will attempt to cast values to booleans before testing them.\n",
        "# In python things types that translate to being empty or zero when cast to a boolean are False (they are \"Falsy\")\n",
        "# (e.g., \"\", 0, None, [], {}, etc)\n",
        "# Non-empty containers and non-zero valued numbers things are \"Truthy\" and bool(non_empty_non_zero_value) == True\n",
        "\n",
        "any([False, \"\", 0, None, [], {}]) # returns False - False, \"\", 0, None, [], {} are all considered Falsy types in python.\n",
        "all([True, \"Hello\", 1]) # returns True; in python non-empty strings, non-zero numbers when cast to bool evaluate to True"
      ],
      "execution_count": 0,
      "outputs": []
    },
    {
      "cell_type": "markdown",
      "metadata": {
        "id": "-jHd59KUY7M9",
        "colab_type": "text"
      },
      "source": [
        "##### Q6 Answer"
      ]
    },
    {
      "cell_type": "code",
      "metadata": {
        "id": "BwSgbT5HY9Fd",
        "colab_type": "code",
        "colab": {}
      },
      "source": [
        "all(bbox_df['patientId'] == class_df['patientId']) \n",
        "# demonstrating the patientId column is the same in both df when compared row by row."
      ],
      "execution_count": 0,
      "outputs": []
    },
    {
      "cell_type": "markdown",
      "metadata": {
        "id": "wEWS3amheJFF",
        "colab_type": "text"
      },
      "source": [
        "## Boolean Array Indexing - How to select rows that match criteria\n",
        "\n",
        "You can then use this True/False pandas.Series to index your dataframe and only select rows where the entry in the Series is True.\n",
        "\n",
        "`df[df.Target == 0]` # picks out rows from `df` where the value of `Target` column is `0`.\n",
        "\n",
        "We can then verify the non-null count using the function `df.count()` which returns the number of rows where each column is non-null.\n",
        "\n",
        "Note this type of slicing (Boolean Array Indexing) is not only used for selecting slices of a dataframe, but can also be used for updating slices of a data frame.\n",
        "\n"
      ]
    },
    {
      "cell_type": "code",
      "metadata": {
        "id": "W_qVxsE5e5Je",
        "colab_type": "code",
        "colab": {}
      },
      "source": [
        "bbox_df[bbox_df.Target == 0] # This selects all rows of bbox_df with Target==0"
      ],
      "execution_count": 0,
      "outputs": []
    },
    {
      "cell_type": "code",
      "metadata": {
        "id": "p8hteA5dfGuq",
        "colab_type": "code",
        "colab": {}
      },
      "source": [
        "bbox_df[bbox_df.Target == 0].count()"
      ],
      "execution_count": 0,
      "outputs": []
    },
    {
      "cell_type": "markdown",
      "metadata": {
        "id": "gP1o-aBmgi5v",
        "colab_type": "text"
      },
      "source": [
        "## Adding a Column to DataFrame\n",
        "\n",
        "The syntax for adding a column to a dataframe is simple; you just create a new column name and assign to it with a Series of the correct size.  \n",
        "\n",
        "For example if I wanted to add a column to our data frame called Area being a product of `bbox_df.width` x `bbox_df.height`"
      ]
    },
    {
      "cell_type": "code",
      "metadata": {
        "id": "j12VJ5D5hcq1",
        "colab_type": "code",
        "colab": {}
      },
      "source": [
        "bbox_df['area'] = bbox_df.width * bbox_df.height\n",
        "bbox_df"
      ],
      "execution_count": 0,
      "outputs": []
    },
    {
      "cell_type": "markdown",
      "metadata": {
        "id": "6jqNOZT5PhjH",
        "colab_type": "text"
      },
      "source": [
        "If we don't want the column, we can delete that column using the `del` keyword and using the following indexing notation to select the column we want to remove.\n",
        "\n",
        "Obviously if we run the following cell twice, we'll raise a `KeyError` when trying to delete a column that no longer exists.\n"
      ]
    },
    {
      "cell_type": "code",
      "metadata": {
        "id": "B5akCCi3PHQE",
        "colab_type": "code",
        "colab": {}
      },
      "source": [
        "del bbox_df['area']\n",
        "bbox_df"
      ],
      "execution_count": 0,
      "outputs": []
    },
    {
      "cell_type": "markdown",
      "metadata": {
        "id": "AexEuzSZEnCh",
        "colab_type": "text"
      },
      "source": [
        "##Merge DataFrames\n",
        "\n",
        "It makes sense to merge dataframes.  Now in Q6 we showed the patientId column is identically sized and there's a one-to-one correspondance between rows, there are two valid ways to merge the dataframes in this case.\n",
        "\n",
        "We could simply copy a new column in our DataFrame by copying the class column off of `class_df`:\n"
      ]
    },
    {
      "cell_type": "code",
      "metadata": {
        "id": "v-QNepIjWPf7",
        "colab_type": "code",
        "colab": {}
      },
      "source": [
        "bbox_df['patId_from_class'] = class_df['patientId']\n",
        "bbox_df['class'] = class_df['class']\n",
        "bbox_df"
      ],
      "execution_count": 0,
      "outputs": []
    },
    {
      "cell_type": "code",
      "metadata": {
        "id": "LzH9ch9lQykn",
        "colab_type": "code",
        "colab": {}
      },
      "source": [
        "# After again verifying that 'patId_from_class' matches 'patientId', we can delete the duplicate column\n",
        "if all(bbox_df['patId_from_class'] == bbox_df['patientId']):\n",
        "  del bbox_df['patId_from_class']\n",
        "  \n",
        "bbox_df"
      ],
      "execution_count": 0,
      "outputs": []
    },
    {
      "cell_type": "code",
      "metadata": {
        "id": "vnZG8sEqiC8L",
        "colab_type": "code",
        "colab": {}
      },
      "source": [
        "# But we are going to merge in a more generic way where we don't require that the patientId column between\n",
        "# the two data frames to merge are identical.\n",
        "# So let's delete the 'class' column\n",
        "del bbox_df['class']\n",
        "bbox_df"
      ],
      "execution_count": 0,
      "outputs": []
    },
    {
      "cell_type": "markdown",
      "metadata": {
        "id": "ukOeBPXvGXL3",
        "colab_type": "text"
      },
      "source": [
        "### Using merge to join DataFrame akin to SQL JOIN\n",
        "\n",
        "We can take two distinct dataframes in pandas and merge them into one concatenated dataframe, similar to a [SQL JOIN](https://i.stack.imgur.com/VQ5XP.png).\n",
        "\n",
        "In `left_df.merge(right_df, on='patientId', how='inner')`\n",
        "\n",
        "the parameter `on` determines the column we merge on  and `how` specifies whether we do an\n",
        "\n",
        "* `inner`:  INNER join (use intersection of keys),  \n",
        "* `left`:  LEFT OUTER join (always keep left key)\n",
        "* `right`:  RIGHT OUTER join (always keep right key)\n",
        "* `outer`:  OUTER join (use union of two keys)\n",
        "\n",
        "Note because `stage2_detailed_class_info.csv` has one row for every bounding box (with the same label for all bounding boxes corresponding to the same patient), we should first remove duplicate rows before doing a JOIN type merge with `df.drop_duplicates()`.  \n",
        "\n",
        "If we do not remove duplicates before joining we'll find that doing a naive inner JOIN on patientId when there are say three bounding boxes on a patient image they'll be three rows in `bbox_df` and three corresponding rows in `class_df`.  The JOIN would then calculate the inner product where the patient_id match and after the JOIN we would have 9 rows (instead of 3) for our merged df."
      ]
    },
    {
      "cell_type": "markdown",
      "metadata": {
        "id": "JM0EpAcGkwlJ",
        "colab_type": "text"
      },
      "source": [
        "### Q7"
      ]
    },
    {
      "cell_type": "code",
      "metadata": {
        "id": "JW1wuAJ0ie-N",
        "colab_type": "code",
        "colab": {}
      },
      "source": [
        "# Create a dataframe with no repeated rows with the information in class_df\n",
        "# Do a merge between bbox_df and class_df with no duplicates.  Call this merged dataframe `df`\n",
        "# Inspect the merged dataframe\n"
      ],
      "execution_count": 0,
      "outputs": []
    },
    {
      "cell_type": "markdown",
      "metadata": {
        "id": "f25Y0vbrlRwH",
        "colab_type": "text"
      },
      "source": [
        "#### Q7 Solution"
      ]
    },
    {
      "cell_type": "code",
      "metadata": {
        "id": "s3u6w6jaGHjx",
        "colab_type": "code",
        "colab": {}
      },
      "source": [
        "class_df_no_dups = class_df.drop_duplicates()\n",
        "df = bbox_df.merge(class_df_no_dups, on='patientId', how='inner')\n",
        "df.head(8)"
      ],
      "execution_count": 0,
      "outputs": []
    },
    {
      "cell_type": "code",
      "metadata": {
        "id": "eGByCYjcpMIL",
        "colab_type": "code",
        "colab": {}
      },
      "source": [
        "df.describe(include='all') # show numerical and string data"
      ],
      "execution_count": 0,
      "outputs": []
    },
    {
      "cell_type": "markdown",
      "metadata": {
        "id": "fn08ofg2oZt2",
        "colab_type": "text"
      },
      "source": [
        "## View distribution of data with histograms\n",
        "\n",
        "`df.hist()` specifies a histogram showing the distribution of values of each column of numerical data.  Note these plots are generated from pandas by internally calling matplotlib.\n"
      ]
    },
    {
      "cell_type": "code",
      "metadata": {
        "id": "6U9PhmFulsLP",
        "colab_type": "code",
        "colab": {}
      },
      "source": [
        "hist = df.hist(bins=50, layout=(2,3), figsize=(15,6))"
      ],
      "execution_count": 0,
      "outputs": []
    },
    {
      "cell_type": "markdown",
      "metadata": {
        "id": "uVPPmSoC2Slh",
        "colab_type": "text"
      },
      "source": [
        "## Inspect Missing Data\n",
        "\n",
        "We've defined a function below to inspect the missing data.\n",
        " \n",
        " `df.isnull()` return `False` (0) if a cell is non-empty or `True` (1) when a cell is null (or `NaN`).\n",
        " \n",
        " `df.isnull().sum()` then counts the number of null rows in every column of `df` (note in python `True+True==2`)\n",
        " \n",
        " `df.index` returns the index of row labels that can quickly be counted to specify number of rows using `len(df.index)`\n",
        " \n",
        " `pd.concat` concatenates pandas Series (a column of pandas data) along an axis and appends appropriate labels."
      ]
    },
    {
      "cell_type": "code",
      "metadata": {
        "id": "oVuFBgK7mRAD",
        "colab_type": "code",
        "colab": {}
      },
      "source": [
        "def missing_data(df):\n",
        "  null_data = df.isnull().sum()\n",
        "  num_rows = len(df.index)\n",
        "  percent_null = 100.*null_data/num_rows\n",
        "  return pd.concat([null_data, percent_null.round(1)], axis=1, keys=['Missing', 'PercentMissing'])\n",
        "\n",
        "missing_data(df)"
      ],
      "execution_count": 0,
      "outputs": []
    },
    {
      "cell_type": "markdown",
      "metadata": {
        "id": "MGlccxt3lzHY",
        "colab_type": "text"
      },
      "source": [
        "### Q8"
      ]
    },
    {
      "cell_type": "code",
      "metadata": {
        "id": "VCWRjMFLl4cY",
        "colab_type": "code",
        "colab": {}
      },
      "source": [
        "# Let's compare the count of missing data to the value of the Target column\n",
        "# How many rows in df have a Target == 0?\n",
        "# How many rows in df have a Target == 1?"
      ],
      "execution_count": 0,
      "outputs": []
    },
    {
      "cell_type": "markdown",
      "metadata": {
        "id": "abVeczqhmxkz",
        "colab_type": "text"
      },
      "source": [
        "#### Q8 Answer"
      ]
    },
    {
      "cell_type": "code",
      "metadata": {
        "id": "uncRxAOc5V1B",
        "colab_type": "code",
        "colab": {}
      },
      "source": [
        "# Recall \n",
        "print(df.Target == 0) # Show True/False values based on whether Target is zero"
      ],
      "execution_count": 0,
      "outputs": []
    },
    {
      "cell_type": "code",
      "metadata": {
        "id": "vWncMntS9Y7l",
        "colab_type": "code",
        "colab": {}
      },
      "source": [
        "print(\"Target 0\")\n",
        "print(\"=\"*20)\n",
        "print(df[df.Target == 0].count())\n",
        "print(\"\")\n",
        "print(\"Target 1\")\n",
        "print(\"=\"*20)\n",
        "print(df[df.Target == 1].count())"
      ],
      "execution_count": 0,
      "outputs": []
    },
    {
      "cell_type": "markdown",
      "metadata": {
        "id": "sHf-W77XnBGu",
        "colab_type": "text"
      },
      "source": [
        "Conclusion: bounding box is only defined for Target = 1; otherwise x, y, width, height are null (which makes sense with missing data above)."
      ]
    },
    {
      "cell_type": "markdown",
      "metadata": {
        "id": "tnRT4hZdBRJu",
        "colab_type": "text"
      },
      "source": [
        "## Distribution of counts in our dataset\n",
        "\n",
        "`series.value_counts()` takes a pandas series and returns the number of counts of each unique value in that series and by default sorts the unique labels in by descending value counts."
      ]
    },
    {
      "cell_type": "code",
      "metadata": {
        "id": "Sv8pBfNVCXvX",
        "colab_type": "code",
        "colab": {}
      },
      "source": [
        "df['class'].value_counts()"
      ],
      "execution_count": 0,
      "outputs": []
    },
    {
      "cell_type": "markdown",
      "metadata": {
        "id": "UHqUEtT7nwvE",
        "colab_type": "text"
      },
      "source": [
        "### Q9"
      ]
    },
    {
      "cell_type": "code",
      "metadata": {
        "id": "63PGSj_SnzAZ",
        "colab_type": "code",
        "colab": {}
      },
      "source": [
        "# We can also see it as a percentage by doing math on the Series data returned by `value_counts()`\n",
        "# Convert the value_counts() into a percentage to find the percent of labeled bounding boxes that fall into each patient category"
      ],
      "execution_count": 0,
      "outputs": []
    },
    {
      "cell_type": "markdown",
      "metadata": {
        "id": "epEnvKfenwpQ",
        "colab_type": "text"
      },
      "source": [
        "#### Q9 Answer"
      ]
    },
    {
      "cell_type": "code",
      "metadata": {
        "id": "m5f4-A95n-rN",
        "colab_type": "code",
        "colab": {}
      },
      "source": [
        "df['class'].value_counts()*(100.0)/len(df.index)"
      ],
      "execution_count": 0,
      "outputs": []
    },
    {
      "cell_type": "markdown",
      "metadata": {
        "id": "5TXUqKhwpojR",
        "colab_type": "text"
      },
      "source": [
        "### Q10"
      ]
    },
    {
      "cell_type": "code",
      "metadata": {
        "id": "3oImykMPpxGs",
        "colab_type": "code",
        "colab": {}
      },
      "source": [
        "# Use Boolean Array Selection and Describe to Verify that class = 'Lung Opacity' corresponds to Target = 1"
      ],
      "execution_count": 0,
      "outputs": []
    },
    {
      "cell_type": "markdown",
      "metadata": {
        "id": "Js9ax_R8p-Yb",
        "colab_type": "text"
      },
      "source": [
        "#### Q10 Answer"
      ]
    },
    {
      "cell_type": "code",
      "metadata": {
        "id": "wzuDfy67qA3z",
        "colab_type": "code",
        "colab": {}
      },
      "source": [
        "df[df.Target==1].describe(include='all') # Note we selected on Target = 1 and show only one unique value of class, the top value seen is \"Lung Opacity\""
      ],
      "execution_count": 0,
      "outputs": []
    },
    {
      "cell_type": "code",
      "metadata": {
        "id": "VLMtzTIJqDp1",
        "colab_type": "code",
        "colab": {}
      },
      "source": [
        "df[df['class'] == 'Lung Opacity'].describe(include='all') # Looking at it the other way, we selected on Class and saw the numerical value Target appear 9555 times as 1.0 (as seen with a max and min value of 1.0)"
      ],
      "execution_count": 0,
      "outputs": []
    },
    {
      "cell_type": "markdown",
      "metadata": {
        "id": "VU4IFR9oDj-_",
        "colab_type": "text"
      },
      "source": [
        "## We can also generate a countplot of this series\n",
        "\n",
        "`sns.countplot(series)` creates a bar graph of the number of distinct values present in the pandas series. "
      ]
    },
    {
      "cell_type": "code",
      "metadata": {
        "id": "EugvzzuE-7Sq",
        "colab_type": "code",
        "colab": {}
      },
      "source": [
        "countplot = sns.countplot(df['class'])"
      ],
      "execution_count": 0,
      "outputs": []
    },
    {
      "cell_type": "markdown",
      "metadata": {
        "id": "jo7OUyiWKSr2",
        "colab_type": "text"
      },
      "source": [
        "## Grouping the categories\n",
        "\n",
        "We can do another `countplot` and where we first plot the x-axis by `Target` value but break up each group of `Target` value into each `class` using the `hue` keyword.  In this type of plot there's groups of colored bars (colored based on the column indicated by 'hue')\n"
      ]
    },
    {
      "cell_type": "code",
      "metadata": {
        "id": "CydaawlBIWsG",
        "colab_type": "code",
        "colab": {}
      },
      "source": [
        "target_class_plot = sns.countplot(data=df, x='Target', hue='class')"
      ],
      "execution_count": 0,
      "outputs": []
    },
    {
      "cell_type": "markdown",
      "metadata": {
        "id": "ev6qwMaZLLyN",
        "colab_type": "text"
      },
      "source": [
        "## Plotting density of values when Target = 1\n",
        "\n",
        "We can observe general distributions of the x, y, width, height, data fields in a `distplot`. We first plot the x-axis value by the data column we're interested in. We specify `kde=true` to fit a gaussian kernel density estimate on top of the existing data. We specify `50` bins to spread our data over. We specify `color` for plot colorization. We use matplotlib to generate a plot with four subplots in a 2x2 grid and put each plot in a specific one of its subplots before showing.  Consult [matplotlib.pyplot.subplots](https://matplotlib.org/3.1.0/api/_as_gen/matplotlib.pyplot.subplots.html#matplotlib.pyplot.subplots) for more documentation."
      ]
    },
    {
      "cell_type": "code",
      "metadata": {
        "id": "4l92X-yeJFMx",
        "colab_type": "code",
        "colab": {}
      },
      "source": [
        "target1_df = df[df['Target']==1]\n",
        "\n",
        "fig, ax = plt.subplots(2,2, figsize=(12,12))\n",
        "sns.distplot(target1_df['x'],     kde=True, bins=50, color=\"red\",     ax=ax[0,1])\n",
        "sns.distplot(target1_df['y'],     kde=True, bins=50, color=\"blue\",    ax=ax[0,0])\n",
        "sns.distplot(target1_df['width'], kde=True, bins=50, color=\"green\",   ax=ax[1,0])\n",
        "sns.distplot(target1_df['height'],kde=True, bins=50, color=\"magenta\", ax=ax[1,1])\n",
        "plt.tick_params(axis='both', which='major', labelsize=12)\n",
        "plt.show()"
      ],
      "execution_count": 0,
      "outputs": []
    },
    {
      "cell_type": "markdown",
      "metadata": {
        "id": "i-sKoNblMHPq",
        "colab_type": "text"
      },
      "source": [
        "## Plotting midpoints\n",
        "\n",
        "The midpoint of each window is $x_c = x + width/2$ and $y_c = y + height/2$\n",
        "\n",
        "We can calculate these new columns and add them to our dataframe and then create a scatter plot of their values."
      ]
    },
    {
      "cell_type": "markdown",
      "metadata": {
        "id": "GUvd17psrQUs",
        "colab_type": "text"
      },
      "source": [
        "### Q11"
      ]
    },
    {
      "cell_type": "code",
      "metadata": {
        "id": "dTR5AFiPrZej",
        "colab_type": "code",
        "colab": {}
      },
      "source": [
        "# For rows where there is bounding box (lung opacity), add columns named 'xc' and 'yc'\n",
        "# representing the midpoint of the box, so we can graph them later."
      ],
      "execution_count": 0,
      "outputs": []
    },
    {
      "cell_type": "markdown",
      "metadata": {
        "id": "tSb2F9p3r_ox",
        "colab_type": "text"
      },
      "source": [
        "#### Q11 Answer"
      ]
    },
    {
      "cell_type": "code",
      "metadata": {
        "id": "FUYkCw12LppL",
        "colab_type": "code",
        "colab": {}
      },
      "source": [
        "target1_df['xc'] = target1_df['x'] + target1_df['width']/2\n",
        "target1_df['yc'] = target1_df['y'] + target1_df['height']/2\n",
        "target1_df.head()"
      ],
      "execution_count": 0,
      "outputs": []
    },
    {
      "cell_type": "markdown",
      "metadata": {
        "id": "sy7O97Y9sKVk",
        "colab_type": "text"
      },
      "source": [
        "### Create a scatter plot of these midpoints\n",
        "\n",
        "We will use the built in plotting functionality provided by pandas (via matplotlib) to create a scatter plot associated with this new data.  \n",
        "\n",
        "We can access a set of built-in plot function under our dataframe from the namespace `df.plot` including a scatter plot with `df.plot.scatter`.\n",
        "\n",
        "We specify the x-center label `xc` and the y-center label `yc`. We specify the range of values for the x and y axis via xlim and ylim respectively. We specify a blending value of 0.5 (0 transparent - 1 opaque). We also specify a point [marker ](https://matplotlib.org/api/markers_api.html#module-matplotlib.markers) `'.'` along with the color."
      ]
    },
    {
      "cell_type": "code",
      "metadata": {
        "id": "gcubTNSJsRQe",
        "colab_type": "code",
        "colab": {}
      },
      "source": [
        "scatter_plot = target1_df.plot.scatter(x='xc', y='yc', xlim=(0,1024), ylim=(0, 1024), alpha=0.5, marker='.', color='red')\n"
      ],
      "execution_count": 0,
      "outputs": []
    },
    {
      "cell_type": "markdown",
      "metadata": {
        "id": "6Aw-16LANU-n",
        "colab_type": "text"
      },
      "source": [
        "## Exploring DICOM data\n",
        "\n",
        "Let's look at the DICOM data in the training set located in subdirectory `train/`.\n",
        "\n",
        "We've only loaded a sample of the images, so let's browse the directory to see which files are present.\n",
        "\n",
        "\n",
        "\n",
        "```os.listdir() ``` is a useful function that takes in a string and gives back a python list of the contents of the directory associated with that string.\n",
        "\n"
      ]
    },
    {
      "cell_type": "markdown",
      "metadata": {
        "id": "vnSpOrQ9juIR",
        "colab_type": "text"
      },
      "source": [
        "### Q12"
      ]
    },
    {
      "cell_type": "code",
      "metadata": {
        "id": "sB5qV6NHjx6y",
        "colab_type": "code",
        "colab": {}
      },
      "source": [
        "# How can we get a list of our training images?\n",
        "# Can we count the number of training images that we have?"
      ],
      "execution_count": 0,
      "outputs": []
    },
    {
      "cell_type": "markdown",
      "metadata": {
        "id": "I9Hwbo31lGHM",
        "colab_type": "text"
      },
      "source": [
        "#### Q12 Answer\n"
      ]
    },
    {
      "cell_type": "code",
      "metadata": {
        "id": "psFWHMJ5kaML",
        "colab_type": "code",
        "colab": {}
      },
      "source": [
        "image_file_names = os.listdir('train/')\n",
        "print(image_file_names[0:5]) # print first 5 file names\n",
        "print(len(image_file_names))"
      ],
      "execution_count": 0,
      "outputs": []
    },
    {
      "cell_type": "markdown",
      "metadata": {
        "id": "vj8tJz51GP5b",
        "colab_type": "text"
      },
      "source": [
        "### Create dataFrame with names of Images and patientId\n",
        "\n",
        "First, let's convert this python list into a 1 column pandas dataframe.\n",
        "\n",
        "Then we add a second column based on truncating the last 4 characters (`.dcm`) off each string to get the `patientId` corresponding to each image.\n"
      ]
    },
    {
      "cell_type": "code",
      "metadata": {
        "id": "EuXpE5CwGOsC",
        "colab_type": "code",
        "colab": {}
      },
      "source": [
        "images_df = pd.DataFrame(image_file_names, columns=['file_name'])\n",
        "images_df['patientId'] = images_df['file_name'].str[:-4] # add a with patientId column taken from file name\n",
        "images_df"
      ],
      "execution_count": 0,
      "outputs": []
    },
    {
      "cell_type": "markdown",
      "metadata": {
        "id": "0Fj0W4FEUnWL",
        "colab_type": "text"
      },
      "source": [
        "###Q13"
      ]
    },
    {
      "cell_type": "code",
      "metadata": {
        "id": "CKv7i80mVDhX",
        "colab_type": "code",
        "colab": {}
      },
      "source": [
        "# Create merged_df by merging the newly created dataframe (with image names and patientId for ~300 images)\n",
        "# with the full df with 30,227 rows from above.\n",
        "# Be careful not to lose bbox data in the merge from rows that aren't present in both data frames.\n"
      ],
      "execution_count": 0,
      "outputs": []
    },
    {
      "cell_type": "markdown",
      "metadata": {
        "id": "Noe4qsjhVmbw",
        "colab_type": "text"
      },
      "source": [
        "#### Q13 Answer"
      ]
    },
    {
      "cell_type": "code",
      "metadata": {
        "id": "Dz8_sTUfJp3x",
        "colab_type": "code",
        "colab": {}
      },
      "source": [
        "merged_df = df.merge(images_df, on='patientId', how='left') # merge with "
      ],
      "execution_count": 0,
      "outputs": []
    },
    {
      "cell_type": "markdown",
      "metadata": {
        "id": "g9HMnyDIVrdu",
        "colab_type": "text"
      },
      "source": [
        "### Q14\n"
      ]
    },
    {
      "cell_type": "code",
      "metadata": {
        "id": "-Tdaq4lzV2x6",
        "colab_type": "code",
        "colab": {}
      },
      "source": [
        "#Create a column in merged_df called 'image_exists' that is True when the image exists in the directory and False otherwise."
      ],
      "execution_count": 0,
      "outputs": []
    },
    {
      "cell_type": "markdown",
      "metadata": {
        "id": "1Ezy9ArFWBaW",
        "colab_type": "text"
      },
      "source": [
        "#### Q14 Hints"
      ]
    },
    {
      "cell_type": "code",
      "metadata": {
        "id": "ugZlLsILWFF4",
        "colab_type": "code",
        "colab": {}
      },
      "source": [
        "# Python has several bitwise operators:\n",
        "\n",
        "# Note for examples in binary 42 is 0b101010; 15 is 0b1111\n",
        "# & (bitwise and)          (42 & 15 == 0b1010 == 18  \n",
        "# | (bitwise inclusive or) (42 | 15 == 0b101111 == 47)\n",
        "# ^ (bitwise exclusive or) (42 ^ 15 == 0b100101 == 37)\n",
        "# ~ (bitwise negation)     (~42 == 0b1111...010101 == -43 using two's complement.\n",
        "\n",
        "#These bitwise operators can be used on pandas series (e.g., dataframe column) to act on them \n",
        "# element by element in an efficient vectorized manner\n",
        "\n",
        "pd.Series([True, True, False, False]) & pd.Series([False, True, True, False]) \n",
        "# above returns pd.Series([False, True, False, False])\n",
        "pd.Series([True, True, False, False]) | pd.Series([False, True, True, False]) \n",
        "# returns pd.Series([True, True, True, False])\n",
        "pd.Series([True, True, False, False]) ^ pd.Series([False, True, True, False]) \n",
        "# returns pd.Series([True, False, True, False])\n",
        "~pd.Series([True, True, False, False]) \n",
        "# returns pd.Series([False, False, True, True])\n",
        "\n",
        "\n",
        "#Note you cannot use python's normal boolean functions like and, or, and not do not work element by element when\n",
        "# applied to panda data Series.\n",
        "\n",
        "\n"
      ],
      "execution_count": 0,
      "outputs": []
    },
    {
      "cell_type": "code",
      "metadata": {
        "id": "zGx61bWQZSec",
        "colab_type": "code",
        "colab": {}
      },
      "source": [
        "# Hint 2:\n",
        "\n",
        "# Recall pandas has isnull() function that works on both DataFrames and Series."
      ],
      "execution_count": 0,
      "outputs": []
    },
    {
      "cell_type": "markdown",
      "metadata": {
        "id": "xud2_z15Zvee",
        "colab_type": "text"
      },
      "source": [
        "#### Q14 Answer"
      ]
    },
    {
      "cell_type": "code",
      "metadata": {
        "id": "ZbIv1c5kZu6y",
        "colab_type": "code",
        "colab": {}
      },
      "source": [
        "merged_df['image_exists'] = ~merged_df['file_name'].isnull() \n",
        "# set a boolean column when file_name is not null.  Note `~` which is python's bitwise negation; \n",
        "# in pandas bitwise operators will act on each element of a data frame column\n",
        "\n",
        "\n",
        "# This is a convenient thing to do, because now we can simply select rows with a images present with:\n",
        "merged_df[merged_df['image_exists']] \n"
      ],
      "execution_count": 0,
      "outputs": []
    },
    {
      "cell_type": "markdown",
      "metadata": {
        "id": "uIfXhGgFaHXK",
        "colab_type": "text"
      },
      "source": [
        "### Unique Patients"
      ]
    },
    {
      "cell_type": "markdown",
      "metadata": {
        "id": "UTVavULzN3LH",
        "colab_type": "text"
      },
      "source": [
        "The files names are the patients IDs.  In this limited sample for this demonstration, we only have 300 dicom training images loaded.  \n",
        "\n",
        "If we downloaded the full dataset we would have seen 26684 images in the training set and 3000 images in the test set, but this differs from the 30227 rows in our column.  This will match with the number of unique `patientId` present in our dataframe:"
      ]
    },
    {
      "cell_type": "code",
      "metadata": {
        "id": "d73-k3R7NtEG",
        "colab_type": "code",
        "colab": {}
      },
      "source": [
        "print(\"Unique patientId in merged_df: \", merged_df['patientId'].nunique())"
      ],
      "execution_count": 0,
      "outputs": []
    },
    {
      "cell_type": "markdown",
      "metadata": {
        "id": "6UCG7x3oOx-R",
        "colab_type": "text"
      },
      "source": [
        "## Explore Patients With Multiple Rows with `groupby`\n",
        "\n",
        "Let's see which patients have multiple rows of data (multiple bounding boxes) and their distribution.\n",
        "\n",
        "First we take our dataframe and `groupby([column_names])` a value, which combined with an aggregating function\n",
        "(e.g., `count()`, `mean()`, `max()`, `min()`, `sum()`, `median()`) will return the numbers of a column aggregated by that group.  We'll do this to group by `patientId` and see counts of various columns."
      ]
    },
    {
      "cell_type": "code",
      "metadata": {
        "id": "BZL53yOT5amN",
        "colab_type": "code",
        "colab": {}
      },
      "source": [
        "grouped_by_patient = merged_df.groupby(['patientId'])\n",
        "grouped_by_patient.count() # shows how many times is present per value of 'patientId'"
      ],
      "execution_count": 0,
      "outputs": []
    },
    {
      "cell_type": "markdown",
      "metadata": {
        "id": "qlDXDMbL8lj-",
        "colab_type": "text"
      },
      "source": [
        "We only care about the number of rows present, so we can select the column `patientId` out of our patient_group like:\n",
        "\n",
        "`grouped_by_patient['patientId'].count()`\n",
        "\n",
        "This returns a pandas Series, though we'd rather work with DataFrames so we convert it to a frame with `series.to_frame('numRows')` which creates a DataFrame with the values of the series in a column named `'numRows'` in our example.\n",
        "\n",
        "However, this continues to use `patientId` as the index (which we had been aggregating on), but we want to stop indexing on `patientId` but pull that column into our dataframe as a column, which we can do with  `.reset_index()`"
      ]
    },
    {
      "cell_type": "code",
      "metadata": {
        "id": "yn1t8Zcc8tFU",
        "colab_type": "code",
        "colab": {}
      },
      "source": [
        "#We care only about number of rows present, which would be:\n",
        "# grouped_by_patient['patientId'].count()\n",
        "# Note this is a pandas Series, which we use t\n",
        "num_rows_df = grouped_by_patient['patientId'].count().to_frame('numRows').reset_index()\n",
        "num_rows_df"
      ],
      "execution_count": 0,
      "outputs": []
    },
    {
      "cell_type": "code",
      "metadata": {
        "id": "U_oPilQG8-G3",
        "colab_type": "code",
        "colab": {}
      },
      "source": [
        "# We can then merge this into our dataframe with :\n",
        "\n",
        "df = merged_df.merge(num_rows_df, on='patientId', how='left')\n",
        "df"
      ],
      "execution_count": 0,
      "outputs": []
    },
    {
      "cell_type": "markdown",
      "metadata": {
        "id": "I2Nnk_ymq21O",
        "colab_type": "text"
      },
      "source": [
        "### Q15"
      ]
    },
    {
      "cell_type": "code",
      "metadata": {
        "id": "bsW-Wx8Uq77C",
        "colab_type": "code",
        "colab": {}
      },
      "source": [
        "# Can we find the maximum # of bounding boxes for our sample of patients?\n",
        "# Can we easily find the patients for which have the maximum number of bounding boxes?\n",
        "# Can we obtain their bounding boxes?\n",
        "# Do we have those dicoms available? If not, which patients have the next most number of bounding boxes, and do we have those dicoms?"
      ],
      "execution_count": 0,
      "outputs": []
    },
    {
      "cell_type": "markdown",
      "metadata": {
        "id": "pBX5QXy4rd7U",
        "colab_type": "text"
      },
      "source": [
        "#### Q15 Answer"
      ]
    },
    {
      "cell_type": "code",
      "metadata": {
        "id": "UbtkCbwIrhZw",
        "colab_type": "code",
        "colab": {}
      },
      "source": [
        "#max_dicom_patients_df = merged_df.groupby(['patientId']).count().to_frame('num_rows')\n",
        "\n",
        "# Note this is a pandas Series, which we use to_frame\n",
        "#max_dicom_patients_df = grouped_by_patient.count().to_frame('numRows')\n",
        "#max_dicom_patients_df\n",
        "\n",
        "# We care only about number of rows present, which would be:\n",
        "# grouped_by_patient['patientId'].count()\n",
        "grouped_by_patient['patientId'].count().describe()"
      ],
      "execution_count": 0,
      "outputs": []
    },
    {
      "cell_type": "code",
      "metadata": {
        "id": "N7W6Agjy3afW",
        "colab_type": "code",
        "colab": {}
      },
      "source": [
        "num_rows_df = grouped_by_patient['patientId'].count().to_frame('numRows')\n",
        "# ie those with maximum number of bounding boxes\n",
        "max_num_patient_count_df = num_rows_df[num_rows_df.numRows == 4]"
      ],
      "execution_count": 0,
      "outputs": []
    },
    {
      "cell_type": "code",
      "metadata": {
        "id": "VvjPGXGmzM35",
        "colab_type": "code",
        "colab": {}
      },
      "source": [
        "right_df = merged_df.merge(max_num_patient_count_df, on='patientId', how='right')\n",
        "right_df[right_df.image_exists]"
      ],
      "execution_count": 0,
      "outputs": []
    },
    {
      "cell_type": "code",
      "metadata": {
        "id": "a32dsC5M6oFW",
        "colab_type": "code",
        "colab": {}
      },
      "source": [
        "max_num_patient_count_df = num_rows_df[num_rows_df.numRows == 3]\n",
        "right_df = merged_df.merge(max_num_patient_count_df, on='patientId', how='right')\n",
        "right_df[right_df.image_exists]"
      ],
      "execution_count": 0,
      "outputs": []
    },
    {
      "cell_type": "markdown",
      "metadata": {
        "id": "S4DkyCx5bebl",
        "colab_type": "text"
      },
      "source": [
        "### Plot Distribution of Rows in our dataframe by Patient Class"
      ]
    },
    {
      "cell_type": "code",
      "metadata": {
        "id": "u3QGsQc4O-0l",
        "colab_type": "code",
        "colab": {}
      },
      "source": [
        "count_plot2 = sns.countplot(x='class', hue='numRows',data=df)"
      ],
      "execution_count": 0,
      "outputs": []
    },
    {
      "cell_type": "markdown",
      "metadata": {
        "id": "Nw7vPt4Ibmsr",
        "colab_type": "text"
      },
      "source": [
        "Note the above plot is not really that telling, as we can't differentiate the cases with zero bounding boxes from those with exactly one bounding box present (as there would be a row in both cases).\n",
        "\n",
        "Instead let's count the number of rows where 'x' is not empty.  This lets us get an accurate count of the number of bounding boxes."
      ]
    },
    {
      "cell_type": "code",
      "metadata": {
        "id": "CtghiVqUElyq",
        "colab_type": "code",
        "colab": {}
      },
      "source": [
        "num_bboxes_df = df.groupby('patientId')['x'].count().to_frame('NumBBoxes').reset_index()\n",
        "df2 = df.merge(num_bboxes_df, on='patientId', how='left')\n",
        "count_plot3 = sns.countplot(x='class', hue='NumBBoxes', data=df2)"
      ],
      "execution_count": 0,
      "outputs": []
    },
    {
      "cell_type": "markdown",
      "metadata": {
        "id": "CyM-UdrrSHgg",
        "colab_type": "text"
      },
      "source": [
        "## Reading DICOM Meta Data\n",
        "\n",
        "Pick a patient ID from our populated list\n",
        "\n",
        "We do this by first looking at data frame of images that exist: `df[df['image_exists']]`, create a new dataframe that samples five randomly with `.sample(5)`. \n",
        "\n",
        "We then use integer-based indexing with `.iloc` indexer, and take out the zeroth data value with `.iloc[0]`.\n",
        "From this returned row we look at the `file_name` attribute."
      ]
    },
    {
      "cell_type": "code",
      "metadata": {
        "id": "iVFqaGQbUJC5",
        "colab_type": "code",
        "colab": {}
      },
      "source": [
        "sample_with_images = df[df['image_exists']].sample(6)\n",
        "dicom_file_name = sample_with_images.iloc[0]['file_name']\n",
        "dicom_file_name"
      ],
      "execution_count": 0,
      "outputs": []
    },
    {
      "cell_type": "markdown",
      "metadata": {
        "id": "CTsY8P-BD269",
        "colab_type": "text"
      },
      "source": [
        "We then open the file, get the `patient_id`"
      ]
    },
    {
      "cell_type": "code",
      "metadata": {
        "id": "jxSoJIiuUNPd",
        "colab_type": "code",
        "colab": {}
      },
      "source": [
        "dicom_full_path = os.path.join(ROOT_PATH, 'train', dicom_file_name)\n",
        "patient_id = dicom_file_name[:-4]\n",
        "dicom_full_path, patient_id"
      ],
      "execution_count": 0,
      "outputs": []
    },
    {
      "cell_type": "markdown",
      "metadata": {
        "id": "f13Yxhl1EJDw",
        "colab_type": "text"
      },
      "source": [
        "Open the dicom file using `pydicom` module"
      ]
    },
    {
      "cell_type": "code",
      "metadata": {
        "id": "7AUv6cHcUhGj",
        "colab_type": "code",
        "colab": {}
      },
      "source": [
        "dicom_data = dcm.read_file(dicom_full_path)\n",
        "dicom_data"
      ],
      "execution_count": 0,
      "outputs": []
    },
    {
      "cell_type": "markdown",
      "metadata": {
        "id": "jbSZfsUuU0K9",
        "colab_type": "text"
      },
      "source": [
        "We can observe that we do have available some useful information in the DICOM metadata with predictive value, for example:\n",
        "\n",
        "* Patient sex;\n",
        "* Patient age;\n",
        "* Modality;\n",
        "* Body part examined;\n",
        "* View position;\n",
        "* Rows & Columns;\n",
        "* Pixel Spacing.\n",
        "\n",
        "Let's sample few images having the **Target = 1**.\n",
        "\n",
        "## Plot DICOM images with Target = 1\n",
        "\n"
      ]
    },
    {
      "cell_type": "code",
      "metadata": {
        "id": "FM2uOf5WUtLx",
        "colab_type": "code",
        "colab": {}
      },
      "source": [
        "def plot_six_dicom_images(df):\n",
        "    img_data = list(df.T.to_dict().values())\n",
        "    f, ax = plt.subplots(2,3, figsize=(16,12))\n",
        "    for i,data_row in enumerate(img_data):\n",
        "        patientImage = data_row['patientId']+'.dcm'\n",
        "        imagePath = os.path.join(ROOT_PATH, 'train', patientImage)\n",
        "        dcmdata = dcm.dcmread(imagePath)\n",
        "        modality = dcmdata.Modality\n",
        "        age = dcmdata.PatientAge\n",
        "        sex = dcmdata.PatientSex\n",
        "        ax[i//3, i%3].imshow(dcmdata.pixel_array, cmap=plt.cm.bone) \n",
        "        ax[i//3, i%3].axis('off')\n",
        "        ax[i//3, i%3].set_title('ID: {}\\nModality: {} Age: {} Sex: {} Target: {}\\nClass: {}\\nWindow: {}:{}:{}:{}'.format(\n",
        "                data_row['patientId'],\n",
        "                modality, age, sex, data_row['Target'], data_row['class'], \n",
        "                data_row['x'],data_row['y'],data_row['width'],data_row['height']))\n",
        "    plt.show()\n",
        "    \n"
      ],
      "execution_count": 0,
      "outputs": []
    },
    {
      "cell_type": "markdown",
      "metadata": {
        "id": "PUyYQUZEEslV",
        "colab_type": "text"
      },
      "source": [
        "Create a sample of six images with `Target == 1`.  We can either name a new dataframe based on the image exists or use bitwise operators between columns when selecting rows of our dataframe."
      ]
    },
    {
      "cell_type": "code",
      "metadata": {
        "id": "R87Ov5KTVU_C",
        "colab_type": "code",
        "colab": {}
      },
      "source": [
        "images_present_df = df[df['image_exists']]\n",
        "target1_sample = images_present_df[images_present_df['Target']==1].sample(6)\n",
        "\n",
        "# alternatively if you didn't save data frame only containing present images\n",
        "# you can use bitwise & operator on two boolean columns to select rows where Target is 1 and image_exists is 1\n",
        "\n",
        "target1_sample = df[df['image_exists'] & (df['Target']==1)].sample(6)\n",
        "\n",
        "plot_six_dicom_images(target1_sample)"
      ],
      "execution_count": 0,
      "outputs": []
    },
    {
      "cell_type": "markdown",
      "metadata": {
        "id": "LYdUsj2uWwJQ",
        "colab_type": "text"
      },
      "source": [
        "We would like to represent the images with the overlay boxes superposed. For this, we will need first to parse the whole dataset with Target = 1 and gather all coordinates of the windows showing a Lung Opacity on the same image.\n"
      ]
    },
    {
      "cell_type": "code",
      "metadata": {
        "id": "y37YQzZOW0nd",
        "colab_type": "code",
        "colab": {}
      },
      "source": [
        "from matplotlib.patches import Rectangle\n",
        "\n",
        "def show_dicom_images_with_boxes(data):\n",
        "    img_data = list(data.T.to_dict().values())\n",
        "    f, ax = plt.subplots(2,3, figsize=(16,12))\n",
        "    for i,data_row in enumerate(img_data):\n",
        "        patientImage = data_row['patientId']+'.dcm'\n",
        "        imagePath = os.path.join(ROOT_PATH, 'train', patientImage)\n",
        "        dcmdata = dcm.dcmread(imagePath)\n",
        "        modality = dcmdata.Modality\n",
        "        age = dcmdata.PatientAge\n",
        "        sex = dcmdata.PatientSex\n",
        "        ax[i//3, i%3].imshow(dcmdata.pixel_array, cmap=plt.cm.bone) \n",
        "        ax[i//3, i%3].axis('off')\n",
        "        ax[i//3, i%3].set_title('ID: {}\\nModality: {} Age: {} Sex: {} Target: {}\\nClass: {}'.format(\n",
        "                data_row['patientId'],modality, age, sex, data_row['Target'], data_row['class']))\n",
        "        rows = merged_df[merged_df['patientId']==data_row['patientId']]\n",
        "        box_data = list(rows.T.to_dict().values())\n",
        "        for j, row in enumerate(box_data):\n",
        "            ax[i//3, i%3].add_patch(Rectangle(xy=(row['x'], row['y']),\n",
        "                        width=row['width'],height=row['height'], \n",
        "                        color=\"yellow\",alpha = 0.1))   \n",
        "    plt.show()\n"
      ],
      "execution_count": 0,
      "outputs": []
    },
    {
      "cell_type": "code",
      "metadata": {
        "id": "IWcAQMkgW4r7",
        "colab_type": "code",
        "colab": {}
      },
      "source": [
        "show_dicom_images_with_boxes(target1_sample)"
      ],
      "execution_count": 0,
      "outputs": []
    },
    {
      "cell_type": "markdown",
      "metadata": {
        "id": "uGsyMwF0DvW0",
        "colab_type": "text"
      },
      "source": [
        "### Q16"
      ]
    },
    {
      "cell_type": "code",
      "metadata": {
        "id": "5blRvzadDzWZ",
        "colab_type": "code",
        "colab": {}
      },
      "source": [
        "# Can you plot the patient case where there are 3 bounding boxes?"
      ],
      "execution_count": 0,
      "outputs": []
    },
    {
      "cell_type": "markdown",
      "metadata": {
        "id": "-XqONbjeD6v2",
        "colab_type": "text"
      },
      "source": [
        "#### Q16 Answer"
      ]
    },
    {
      "cell_type": "code",
      "metadata": {
        "id": "XrQjLF5MEER5",
        "colab_type": "code",
        "colab": {}
      },
      "source": [
        "show_dicom_images_with_boxes(right_df[right_df.image_exists].sample(1))\n"
      ],
      "execution_count": 0,
      "outputs": []
    },
    {
      "cell_type": "markdown",
      "metadata": {
        "id": "dBEMGV2LXm4E",
        "colab_type": "text"
      },
      "source": [
        "For some of the images with **Target=1**, we might see multiple areas (boxes/rectangles) with Lung Opacity.\n",
        "\n",
        "Let's sample few images having the **Target = 0**.\n",
        "\n",
        "## Plot DICOM images with Target = 0\n"
      ]
    },
    {
      "cell_type": "code",
      "metadata": {
        "id": "_Ye1bnsDXILZ",
        "colab_type": "code",
        "colab": {}
      },
      "source": [
        "## Normal images\n",
        "target0_sample_normal = images_present_df[images_present_df['class']=='Normal'].sample(6)\n",
        "plot_six_dicom_images(target0_sample_normal)"
      ],
      "execution_count": 0,
      "outputs": []
    },
    {
      "cell_type": "code",
      "metadata": {
        "id": "PbkvjvUOgNPb",
        "colab_type": "code",
        "colab": {}
      },
      "source": [
        "## No Lung Opacity\n",
        "target0_sample_abnormal = images_present_df[images_present_df['class']=='No Lung Opacity / Not Normal'].sample(6)\n",
        "plot_six_dicom_images(target0_sample_abnormal)"
      ],
      "execution_count": 0,
      "outputs": []
    },
    {
      "cell_type": "markdown",
      "metadata": {
        "id": "tEgSUs0UYCu3",
        "colab_type": "text"
      },
      "source": [
        "#Add meta information from DICOM files\n",
        "\n",
        "##Train data\n",
        "\n",
        "We will read the DICOM meta data from the dicom files and add it to the train dataset."
      ]
    },
    {
      "cell_type": "code",
      "metadata": {
        "id": "zZsMQwzUX8na",
        "colab_type": "code",
        "colab": {}
      },
      "source": [
        "dcmfields = ['PatientID', 'Modality', 'PatientAge', 'PatientSex', 'BodyPartExamined', 'ViewPosition', 'ConversionType', 'Rows', 'Columns', 'PixelSpacing']\n",
        "\n",
        "def process_dicom_image_dir(data_path):\n",
        "    image_names = os.listdir(data_path)\n",
        "    image_meta_data = []\n",
        "    for i, img_name in enumerate(image_names):\n",
        "        imagePath = os.path.join(data_path, img_name)\n",
        "        dcmdata = dcm.dcmread(imagePath, stop_before_pixels=True)\n",
        "        meta_data_row = [dcmdata.get(field) for field in dcmfields]\n",
        "        image_meta_data.append(meta_data_row)\n",
        "    return pd.DataFrame(image_meta_data, columns=dcmfields)"
      ],
      "execution_count": 0,
      "outputs": []
    },
    {
      "cell_type": "code",
      "metadata": {
        "id": "zBwcyXoHYNCJ",
        "colab_type": "code",
        "colab": {}
      },
      "source": [
        "dcm_metadata_df = process_dicom_image_dir(os.path.join(ROOT_PATH, 'train'))\n",
        "dcm_metadata_df = dcm_metadata_df.rename(columns={'PatientID':'patientId'})\n",
        "dcm_metadata_df"
      ],
      "execution_count": 0,
      "outputs": []
    },
    {
      "cell_type": "code",
      "metadata": {
        "id": "D9u2-LDoYb6-",
        "colab_type": "code",
        "colab": {}
      },
      "source": [
        "merged_df = df.merge(dcm_metadata_df, on='patientId', how='left')\n",
        "merged_df[merged_df['image_exists']]"
      ],
      "execution_count": 0,
      "outputs": []
    },
    {
      "cell_type": "markdown",
      "metadata": {
        "id": "epuIp4ULmUyc",
        "colab_type": "text"
      },
      "source": [
        "## We only downloaded a subset of data\n",
        "\n",
        "Using same function above we can read the metadata of all 26,684 training dicoms and 3000 test dicoms in 30 seconds of processing total.\n"
      ]
    },
    {
      "cell_type": "code",
      "metadata": {
        "id": "SbUiNwAYm5m2",
        "colab_type": "code",
        "colab": {}
      },
      "source": [
        "dcm_train_metadata_full_df = pd.read_csv('extras/dcm_train_metadata_full.csv')\n",
        "dcm_test_metadata_full_df = pd.read_csv('extras/dcm_test_metadata_full.csv')  "
      ],
      "execution_count": 0,
      "outputs": []
    },
    {
      "cell_type": "code",
      "metadata": {
        "id": "KQWWamz7tfnI",
        "colab_type": "code",
        "colab": {}
      },
      "source": [
        "merged_df = df.merge(dcm_train_metadata_full_df, on='patientId', how='left')\n"
      ],
      "execution_count": 0,
      "outputs": []
    },
    {
      "cell_type": "markdown",
      "metadata": {
        "id": "MOP5iA3mz0em",
        "colab_type": "text"
      },
      "source": [
        "## Inspecting the DCM Data Fields\n",
        "\n",
        "If we look at our full training data's dicom fields we see:"
      ]
    },
    {
      "cell_type": "code",
      "metadata": {
        "id": "506wDihY0Fgg",
        "colab_type": "code",
        "colab": {}
      },
      "source": [
        "merged_df[['Modality', 'BodyPartExamined', 'PatientSex', 'ViewPosition', 'ConversionType']].describe()"
      ],
      "execution_count": 0,
      "outputs": []
    },
    {
      "cell_type": "markdown",
      "metadata": {
        "id": "hM972XGZ287n",
        "colab_type": "text"
      },
      "source": [
        "We see that **Modality**, **BodyPartExamined** and **ConversionType** all have exactly one value in all their cells (`unique=1`), hence all these images are modality `CR` (Computed Radiograph) that examined body part `CHEST`, with ConversionType WSD (Workstation).\n",
        "\n",
        "We do have 2 unique values for PatientSex and ViewPosition\n",
        "\n"
      ]
    },
    {
      "cell_type": "code",
      "metadata": {
        "id": "teU3khJK7XwO",
        "colab_type": "code",
        "colab": {}
      },
      "source": [
        "merged_df[['PatientAge', 'Rows', 'Columns']].describe()"
      ],
      "execution_count": 0,
      "outputs": []
    },
    {
      "cell_type": "markdown",
      "metadata": {
        "id": "Z-3L7cRU7WV1",
        "colab_type": "text"
      },
      "source": [
        "We also see for the numerical data of **Rows** and **Columns** that all the data is in a fixed shape with 1024 rows and 1024 columns.  These columns were inputed as numerical data, but we can note they are all identical by either noting that the **std** is 0 or that the **min** and **max** are both equal.\n",
        "\n",
        "Meanwhile there's a wide array of **PatientAge** present including several data points that appear to be incorrect (PatientAge = 155)"
      ]
    },
    {
      "cell_type": "markdown",
      "metadata": {
        "id": "exNtEjgl1LQ-",
        "colab_type": "text"
      },
      "source": [
        "## Inspecting View Position\n",
        "\n",
        "We do observe that the ViewPosition changes between **PA** (posterior/anterior - with the patient facing away from the X-ray source) and AP (anteriorposterior - with the patient facing towards the X-ray source) in our dataset."
      ]
    },
    {
      "cell_type": "code",
      "metadata": {
        "id": "bm3CA3r80vKF",
        "colab_type": "code",
        "colab": {}
      },
      "source": [
        "ax=sns.countplot(data=merged_df, x='ViewPosition', hue='class')\n",
        "print(merged_df[merged_df['Target'] == 1]['ViewPosition'].value_counts())"
      ],
      "execution_count": 0,
      "outputs": []
    },
    {
      "cell_type": "markdown",
      "metadata": {
        "id": "A-mLS6L-3p-q",
        "colab_type": "text"
      },
      "source": [
        "## Inspecting PatientSex\n",
        "\n"
      ]
    },
    {
      "cell_type": "code",
      "metadata": {
        "id": "zSGZUmxa3ycn",
        "colab_type": "code",
        "colab": {}
      },
      "source": [
        "ax=sns.countplot(data=merged_df, x='PatientSex', hue='class')"
      ],
      "execution_count": 0,
      "outputs": []
    },
    {
      "cell_type": "markdown",
      "metadata": {
        "id": "j7EhxLum4o1r",
        "colab_type": "text"
      },
      "source": [
        "## Inspecting PatientAge\n",
        "\n"
      ]
    },
    {
      "cell_type": "code",
      "metadata": {
        "id": "YN25Cnr04wCY",
        "colab_type": "code",
        "colab": {}
      },
      "source": [
        "fig = plt.figure(figsize=(16,6))\n",
        "plt.xticks(rotation=90)\n",
        "ax=sns.countplot(data=dcm_train_metadata_full_df, x='PatientAge')\n",
        "\n",
        "print(\"Incorrect ages (greater than 130):\", (dcm_train_metadata_full_df['PatientAge'] > 130).sum())"
      ],
      "execution_count": 0,
      "outputs": []
    },
    {
      "cell_type": "markdown",
      "metadata": {
        "id": "PN5V5o04BNoz",
        "colab_type": "text"
      },
      "source": [
        "# Number of Target Cases plot by PatientSex"
      ]
    },
    {
      "cell_type": "code",
      "metadata": {
        "id": "GoCbH7HlwmRi",
        "colab_type": "code",
        "colab": {}
      },
      "source": [
        "fig = plt.figure(figsize=(16,12))\n",
        "ax1 = fig.add_subplot(211)\n",
        "plt.xticks(rotation=90)\n",
        "ax2 = fig.add_subplot(212)\n",
        "plt.xticks(rotation=90)\n",
        "ax1.set_title(\"Train: Male Chest Exams by Age and Target\")\n",
        "ax1=sns.countplot(x='PatientAge', hue='Target', data=merged_df[merged_df['PatientSex']=='M'], ax=ax1)\n",
        "ax2.set_title(\"Train: Female Chest Exams by Age and Target\")\n",
        "ax2=sns.countplot(x='PatientAge', hue='Target', data=merged_df[merged_df['PatientSex']=='F'], ax=ax2)\n"
      ],
      "execution_count": 0,
      "outputs": []
    },
    {
      "cell_type": "markdown",
      "metadata": {
        "id": "psIgVdC7SRwN",
        "colab_type": "text"
      },
      "source": [
        "## Bounding Box Mask\n",
        "\n",
        "To determine where to look for potential lung opacity, let's create a 1024x1024 box showing summing all the labeled bounding box regions in our training set.\n",
        "\n",
        "`np.linspace(0, 1023, 1024)` create an numpy array `[0, 1, 2, ..., 1023]` with 1024 values.\n",
        "\n",
        "`xx, yy = np.meshgrid(arr1, arr2)` creates two 2d-arrays (`xx`, `yy`) of the shape `len(arr1) x len(arr2)`. \n",
        "\n",
        "Every row of `xx` is a copy of `arr1` and there are `len(arr2)` copies present.\n",
        "\n",
        "Every column of `yy` is a copy of `arr2` and there are `len(arr1)` copies present.\n",
        "\n"
      ]
    },
    {
      "cell_type": "code",
      "metadata": {
        "id": "nUbDQr79UvSr",
        "colab_type": "code",
        "colab": {}
      },
      "source": [
        "xx, yy = np.meshgrid(np.linspace(0, 1023, 1024),\n",
        "                     np.linspace(0, 1023, 1024), \n",
        "                     indexing='xy')\n",
        "# xx is a 1024 x 1024 2d array where every row is [0, 1, 2, 3, ... ,1023]\n",
        "# yy is a 1024 x 1024 2d array where the zeroth row is [0, 0, 0, ... ]\n",
        "# the next row is [1, 1, 1, ...] ; i-th row is [i, i, i, ]\n",
        "\n",
        "# in our example xx[i,j] will always be i and `yy[i,j]` will always be j\n",
        "# so it makes it possible to quickly do vectorized math based on bounding box coordinates.\n",
        "\n",
        "\n",
        "bboxes = {}\n",
        "bboxes['AP'] = np.zeros_like(xx)\n",
        "bboxes['PA'] = np.zeros_like(xx)\n",
        "## Creates a zero filled array in same shape\n",
        "\n",
        "\n",
        "for view in ('AP', 'PA'):\n",
        "  for i, bbox in merged_df[(merged_df['Target']==1) & (merged_df['ViewPosition']==view)].sample(1767).iterrows():\n",
        "      mask  = (xx >= bbox['x']) & (xx <= (bbox['x'] + bbox['width'] ))\n",
        "      mask &= (yy >= bbox['y']) & (yy <= (bbox['y'] + bbox['height']))\n",
        "      bboxes[view] += mask\n",
        "    \n",
        "fig, (ax1, ax2) = plt.subplots(1, 2, figsize = (12, 6))\n",
        "ax1.set_title(\"AP Bounding Boxes\")\n",
        "subfig1 = ax1.imshow(bboxes['AP'], cmap='hot')\n",
        "\n",
        "ax2.set_title(\"PA Bounding Boxes\")\n",
        "subfig2 = ax2.imshow(bboxes['PA'], cmap='hot')\n"
      ],
      "execution_count": 0,
      "outputs": []
    },
    {
      "cell_type": "markdown",
      "metadata": {
        "id": "iyDXRg9vfY4i",
        "colab_type": "text"
      },
      "source": [
        "## Overlay\n",
        "\n",
        "We can then overlay this probability map over images from our training set."
      ]
    },
    {
      "cell_type": "code",
      "metadata": {
        "id": "rjBz4p6cfYsM",
        "colab_type": "code",
        "colab": {}
      },
      "source": [
        "def show_dicom_images_with_bbox_dist(data, bboxes):    \n",
        "    img_data = list(data.T.to_dict().values())\n",
        "    f, ax = plt.subplots(2,3, figsize=(16,12))\n",
        "    for i, data_row in enumerate(img_data):\n",
        "        patientImage = data_row['patientId']+'.dcm'\n",
        "        imagePath = os.path.join(ROOT_PATH, 'train', patientImage)\n",
        "        dcmdata = dcm.dcmread(imagePath)\n",
        "        modality = dcmdata.Modality\n",
        "        age = dcmdata.PatientAge\n",
        "        sex = dcmdata.PatientSex\n",
        "        view = dcmdata.ViewPosition\n",
        "        img = plt.cm.gray(dcmdata.pixel_array)\n",
        "        img += 0.25*plt.cm.hot(bboxes[view]/bboxes[view].max())\n",
        "        img = np.clip(img, 0, 1)\n",
        "\n",
        "        ax[i//3, i%3].imshow(img) \n",
        "        ax[i//3, i%3].axis('off')\n",
        "        ax[i//3, i%3].set_title('ID: {}\\nModality: {} Age: {} Sex: {} Target: {}\\nView: {}, Class: {}'.format(\n",
        "                data_row['patientId'],modality, age, sex, data_row['Target'], view, data_row['class']))\n",
        "        rows = merged_df[merged_df['patientId']==data_row['patientId']]\n",
        "        box_data = list(rows.T.to_dict().values())       \n",
        "        for j, row in enumerate(box_data):\n",
        "            ax[i//3, i%3].add_patch(Rectangle(xy=(row['x'], row['y']),\n",
        "                        width=row['width'],height=row['height'], \n",
        "                        color=\"green\", fill=False))   \n",
        "    plt.show()\n"
      ],
      "execution_count": 0,
      "outputs": []
    },
    {
      "cell_type": "code",
      "metadata": {
        "id": "zni3EdSEbcz2",
        "colab_type": "code",
        "colab": {}
      },
      "source": [
        "show_dicom_images_with_bbox_dist(target1_sample, bboxes)"
      ],
      "execution_count": 0,
      "outputs": []
    },
    {
      "cell_type": "markdown",
      "metadata": {
        "id": "lDn7M4Z1RLyv",
        "colab_type": "text"
      },
      "source": [
        "# What next?  MACHINE LEARNING!\n",
        "\n",
        "You can go to the kaggle competition website and look at code used to analyze the data we've been exploring:\n",
        "\n",
        "* One example of a [RCNN used to detect pneumonia](https://www.kaggle.com/liangbinghao/my-mask-rcnn-sample-starter-code)\n",
        "* [Winning submission advanced ensemble models](https://www.kaggle.com/c/rsna-pneumonia-detection-challenge/discussion/70421)\n",
        "\n",
        "Also don't forget, build your data processing pipeline (resize, center, and normalize images), insert quality controls in labelling, analyze mislabeled cases, augment your dataset, try and experiment and repeat, etc."
      ]
    }
  ]
}